{
  "nbformat": 4,
  "nbformat_minor": 0,
  "metadata": {
    "colab": {
      "provenance": []
    },
    "kernelspec": {
      "name": "python3",
      "display_name": "Python 3"
    },
    "language_info": {
      "name": "python"
    }
  },
  "cells": [
    {
      "cell_type": "markdown",
      "source": [
        "# Sudoku Puzzle Solver with MRV Heuristic"
      ],
      "metadata": {
        "id": "ztMd-0k5EIPs"
      }
    },
    {
      "cell_type": "code",
      "execution_count": null,
      "metadata": {
        "id": "jRFuLepgEHVv"
      },
      "outputs": [],
      "source": [
        "GRID_SIZE = 9\n",
        "iterations = 0\n",
        "\n",
        "def print_puzzle(a):\n",
        "    for i in range(GRID_SIZE):\n",
        "        for j in range(GRID_SIZE):\n",
        "            print(a[i][j], end=\" \")\n",
        "        print()\n",
        "\n",
        "def get_empty_cells(grid):\n",
        "    empty_cells = []\n",
        "    for i in range(GRID_SIZE):\n",
        "        for j in range(GRID_SIZE):\n",
        "            if grid[i][j] == 0:\n",
        "                empty_cells.append((i, j))\n",
        "    return empty_cells\n",
        "\n",
        "def check_valid(grid, row, col, num):\n",
        "    for x in range(GRID_SIZE):\n",
        "        if grid[row][x] == num:\n",
        "            return False\n",
        "\n",
        "    for x in range(GRID_SIZE):\n",
        "        if grid[x][col] == num:\n",
        "            return False\n",
        "\n",
        "    start_row = row - row % 3\n",
        "    start_col = col - col % 3\n",
        "    for i in range(3):\n",
        "        for j in range(3):\n",
        "            if grid[i + start_row][j + start_col] == num:\n",
        "                return False\n",
        "    return True\n",
        "\n",
        "def solve_sudoku(grid):\n",
        "    global iterations\n",
        "    iterations += 1\n",
        "    empty_cells = get_empty_cells(grid)\n",
        "    if not empty_cells:\n",
        "        return True\n",
        "\n",
        "    #Sorting empty_cells based on the number of remaining possible values\n",
        "    empty_cells.sort(key=lambda cell: len(get_possible_values(grid, cell[0], cell[1])))\n",
        "\n",
        "    row, col = empty_cells[0]\n",
        "    for num in get_possible_values(grid, row, col):\n",
        "        if check_valid(grid, row, col, num):\n",
        "            grid[row][col] = num\n",
        "            if solve_sudoku(grid):\n",
        "                return True\n",
        "            grid[row][col] = 0  #Backtracking if no solution is found\n",
        "    return False\n",
        "\n",
        "def get_possible_values(grid, row, col):\n",
        "    possible_values = set(range(1, GRID_SIZE + 1))\n",
        "    for x in range(GRID_SIZE):\n",
        "        possible_values.discard(grid[row][x])\n",
        "        possible_values.discard(grid[x][col])\n",
        "    start_row = row - row % 3\n",
        "    start_col = col - col % 3\n",
        "    for i in range(3):\n",
        "        for j in range(3):\n",
        "            possible_values.discard(grid[i + start_row][j + start_col])\n",
        "    return possible_values\n",
        "\n",
        "sample_grid = [[2, 5, 0, 0, 3, 0, 9, 0, 1],\n",
        "               [0, 1, 0, 0, 0, 4, 0, 0, 0],\n",
        "               [4, 0, 7, 0, 0, 0, 2, 0, 8],\n",
        "               [0, 0, 5, 2, 0, 0, 0, 0, 0],\n",
        "               [0, 0, 0, 0, 9, 8, 1, 0, 0],\n",
        "               [0, 4, 0, 0, 0, 3, 0, 0, 0],\n",
        "               [0, 0, 0, 3, 6, 0, 0, 7, 2],\n",
        "               [0, 7, 0, 0, 0, 0, 0, 0, 3],\n",
        "               [9, 0, 3, 0, 0, 0, 6, 0, 4]]\n",
        "\n",
        "iterations = 0\n",
        "if (solve_sudoku(sample_grid)):\n",
        "    print(\"Solution:\")\n",
        "    print_puzzle(sample_grid)\n",
        "    print(\"Iterations:\", iterations)\n",
        "else:\n",
        "    print(\"No solution exists.\")"
      ]
    }
  ]
}